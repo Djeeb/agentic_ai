{
 "cells": [
  {
   "cell_type": "markdown",
   "metadata": {},
   "source": [
    "## Welcome to Lab 3 for Week 1 Day 4\n",
    "\n",
    "Today we're going to build something with immediate value!\n",
    "\n",
    "In the folder `me` I've put a single file `linkedin.pdf` - it's a PDF download of my LinkedIn profile.\n",
    "\n",
    "Please replace it with yours!\n",
    "\n",
    "I've also made a file called `summary.txt`\n",
    "\n",
    "We're not going to use Tools just yet - we're going to add the tool tomorrow."
   ]
  },
  {
   "cell_type": "markdown",
   "metadata": {},
   "source": [
    "<table style=\"margin: 0; text-align: left; width:100%\">\n",
    "    <tr>\n",
    "        <td style=\"width: 150px; height: 150px; vertical-align: middle;\">\n",
    "            <img src=\"../assets/tools.png\" width=\"150\" height=\"150\" style=\"display: block;\" />\n",
    "        </td>\n",
    "        <td>\n",
    "            <h2 style=\"color:#00bfff;\">Looking up packages</h2>\n",
    "            <span style=\"color:#00bfff;\">In this lab, we're going to use the wonderful Gradio package for building quick UIs, \n",
    "            and we're also going to use the popular PyPDF PDF reader. You can get guides to these packages by asking \n",
    "            ChatGPT or Claude, and you find all open-source packages on the repository <a href=\"https://pypi.org\">https://pypi.org</a>.\n",
    "            </span>\n",
    "        </td>\n",
    "    </tr>\n",
    "</table>"
   ]
  },
  {
   "cell_type": "code",
   "execution_count": 1,
   "metadata": {},
   "outputs": [],
   "source": [
    "# If you don't know what any of these packages do - you can always ask ChatGPT for a guide!\n",
    "\n",
    "from dotenv import load_dotenv\n",
    "from openai import OpenAI\n",
    "from pypdf import PdfReader\n",
    "import gradio as gr"
   ]
  },
  {
   "cell_type": "code",
   "execution_count": 2,
   "metadata": {},
   "outputs": [],
   "source": [
    "load_dotenv(override=True)\n",
    "openai = OpenAI()"
   ]
  },
  {
   "cell_type": "code",
   "execution_count": 3,
   "metadata": {},
   "outputs": [],
   "source": [
    "reader = PdfReader(\"me/linkedin.pdf\")\n",
    "linkedin = \"\"\n",
    "for page in reader.pages:\n",
    "    text = page.extract_text()\n",
    "    if text:\n",
    "        linkedin += text"
   ]
  },
  {
   "cell_type": "code",
   "execution_count": 4,
   "metadata": {},
   "outputs": [
    {
     "name": "stdout",
     "output_type": "stream",
     "text": [
      "   \n",
      "Contact\n",
      "0605838156 (Mobile)\n",
      "olivier@djeeb.fr\n",
      "www.linkedin.com/in/olivier-\n",
      "jeanbaptiste (LinkedIn)\n",
      "www.djeeb.fr/ (Personal)\n",
      "Top Skills\n",
      "Assurance qualité\n",
      "Design Thinking\n",
      "Relation client\n",
      "Certifications\n",
      "Clickup - The Intermediate to\n",
      "Advanced Training Course\n",
      "Formation Complète Développeur\n",
      "Web\n",
      "Process Flowcharts & Process\n",
      "Mapping - The Advanced Guide\n",
      "Olivier JEAN-BAPTISTE\n",
      "Chef de projet digital\n",
      "Paris, Île-de-France, France\n",
      "Summary\n",
      "Avec une carrière riche et diversifiée dans le domaine de\n",
      "l'audiovisuel et du digital, je me spécialise dans la transformation\n",
      "numérique des secteurs de la culture et de l'art. Fort de plus de 20\n",
      "ans d'expérience, notamment en tant que directeur technique dans\n",
      "le plus grand studio de cinéma d'Europe, puis en tant que chef de\n",
      "projet digital, j'apporte une expertise transversale en gestion de\n",
      "projet, production de contenu numérique et développement web.\n",
      "Ma passion pour les technologies, combinée à une compréhension\n",
      "profonde des enjeux du secteur culturel, me permet de créer des\n",
      "stratégies numériques innovantes, visant à renforcer la présence\n",
      "en ligne et la communication digitale des acteurs de l'art et du\n",
      "spectacle. Grâce à une approche personnalisée et créative, je\n",
      "développe des solutions sur mesure pour mes clients, en me basant\n",
      "sur une analyse approfondie de leurs besoins et objectifs.\n",
      "Mon parcours inclut la réalisation de projets digitaux variés, allant\n",
      "de la création de sites web et applications mobiles à la conception\n",
      "de marketplaces artistiques. Je suis également formé aux dernières\n",
      "technologies et méthodologies de gestion de projet, ce qui me\n",
      "permet d'assurer une exécution efficace et de haute qualité.\n",
      "Je suis toujours à la recherche de nouveaux défis et opportunités\n",
      "pour mettre mes compétences au service de projets ambitieux dans\n",
      "le secteur culturel. N'hésitez pas à me contacter pour discuter de la\n",
      "manière dont nous pouvons travailler ensemble pour réussir votre\n",
      "transformation digitale.\n",
      "Experience\n",
      "DJEEB\n",
      "Création d'une plateforme SAAS pour des acteurs du monde de l'art.\n",
      "November 2024 - Present (9 months)\n",
      "Ville de Paris, Île-de-France, France\n",
      "  Page 1 of 9   \n",
      "> Spécifications et suivi de projet:\n",
      "- Design system basé sur l’Atomic Design, tokens exportés vers Supernova et\n",
      "documentés dans Zeroheight.\n",
      "- Rédaction des cahiers des charges : Spécifications techniques pour chaque\n",
      "micro-service (Node.js/Express, PostgreSQL, etc.) et API (REST/GraphQL).\n",
      "- Création du backlog : Épisodes et tâches organisés dans ClickUp, avec liens\n",
      "vers les dépôts GitHub (1 repo par micro-service).\n",
      "- Création de l’UX/UI : Prototypes haute fidélité dans Figma, composants\n",
      "réutilisables pour les micro-frontends.\n",
      "> Développement web:\n",
      "- Frontend: micro-frontends (Module Federation), ReactJS, TypeScript, librairie\n",
      "UI partagée.\n",
      "- Backend et base de données: Node.js/Express, NestJS, PostgreSQL,\n",
      "PgAdmin4, Sqitch (migrations) et Supabase (BaaS).\n",
      "- DevOps & Infra: Docker (conteneurisation), Kubernetes (orchestration),\n",
      "GitHub Actions (CI/CD), Prometheus/Grafana (monitoring).\n",
      "Prodige\n",
      "Chef de projet digital\n",
      "April 2024 - October 2024 (7 months)\n",
      "Bobigny, Île-de-France, France\n",
      "Création d'applications (B2C et back office) pour un collectif d'artistes\n",
      "> Spécifications et suivi de projet :\n",
      "• Définition des besoins.\n",
      "• Rédaction des users stories.\n",
      "• Création des wireframes (zoning).\n",
      "• Ateliers de co-création pour la charte graphique\n",
      "• Rédaction des cahiers des charges et spécifications fonctionnelles.\n",
      "• Création du backlog.\n",
      "• Création de l'UX/UI.\n",
      "> Suivi de projets :\n",
      "• Suivi de projet avec les services internes.\n",
      "• Rédaction du cahier de recettes.\n",
      "  Page 2 of 9   \n",
      "• Recettage des fonctionnalités en cours et demandes de reworks.\n",
      "• Réunions Go/No-Go.\n",
      "• Animations des réunions de pilotage projets (copil) pour y présenter un point\n",
      "à date, veiller au respect du cahier des charges initial et à l’application des\n",
      "bonnes pratiques permettant une exploitation optimale.\n",
      "• Rédaction des PV de livraison.\n",
      "Outils: Drawio, ClickUp, Github, PgAdmin4, Sqitch, Figma, Zeroheight et\n",
      "Slack.\n",
      "ANTARES\n",
      "Chef de projet digital\n",
      "September 2022 - May 2023 (9 months)\n",
      "Levallois-Perret, Île-de-France, France\n",
      "Chef de projet digital dans une agence digitale pour le compte d'un groupe\n",
      "pharmaceutique.\n",
      "> Gestion de projets :\n",
      "• Définition des besoins d’évolution pour répondre aux attentes de l’entreprise\n",
      "(application B2C) et de ses utilisateurs finaux (application B2B).\n",
      "• Formalisation de l’expression des besoins lors d’ateliers de co-création.\n",
      "• Création des users stories.\n",
      "• Création des wireframes (zoning).\n",
      "• Réunions techniques avec les équipes internes et les prestataires autour de\n",
      "besoins d’évolution de leurs services (api et applications).\n",
      "• Comptes-rendus des ateliers techniques et des ateliers de co-création.\n",
      "• Rédaction des cahiers des charges et spécifications fonctionnelles.\n",
      "• Création du backlog et arbitrage sur les lots et les sprints ultérieurs.\n",
      "• Validation des PV des cahiers des spécifications fonctionnelles, de l’UX des\n",
      "applications et du planning.\n",
      "• Travail avec le designer sur une proposition d’UX et de maquettes pour les\n",
      "deux applications.\n",
      "• Validation du PV de l’UX des applications.\n",
      "> Suivi de projets nouveaux :\n",
      "• Suivi de projet (ateliers, planning, recettes, assistance à la mise en\n",
      "production, analyse…) avec les prestataires et les services internes.\n",
      "• Rédaction du cahier de recettes.\n",
      "  Page 3 of 9   \n",
      "• Recettage des fonctionnalités en cours et demandes de reworks.\n",
      "• Réunions Go/No-Go.\n",
      "• Animations des réunions de pilotage projets (copil) pour y présenter un point\n",
      "à date, veiller au respect du cahier des charges initial et à l’application des\n",
      "bonnes pratiques permettant une exploitation optimale.\n",
      "• Participer à la formation et l’animation des utilisateurs pharmaciens.\n",
      "• Rédaction des PV de livraison.\n",
      "> Suivi de projets existants :\n",
      "• Suivi TMA.\n",
      "• Suivi des bugs et incidents remontés par les utilisateurs.\n",
      "• Points hebdomadaire sur les bugfix.\n",
      "• Propositions d’améliorations des sites et des applications : ergonomie et\n",
      "fonctionnalités.\n",
      "Outils: Axure RP, ClickUp, Gitlab et Slack.\n",
      "DJEEB\n",
      "Chef de projet digital, graphiste et développeur web\n",
      "October 2021 - January 2022 (4 months)\n",
      "Ville de Paris, Île-de-France, France\n",
      "Création d’une formation en ligne pour accompagner les porteurs de projets\n",
      "dans la conception, la construction et le pilotage de leur entreprise en ligne.\n",
      "> Spécifications et suivi de projet :\n",
      "• Définition des besoins.\n",
      "• Rédaction des users stories.\n",
      "• Création des wireframes (zoning).\n",
      "• Création de backlog.\n",
      "• Choix des technologies.\n",
      "• Création de la charte graphique (moodboard, éléments graphiques,\n",
      "animations, etc…).\n",
      "• Rédactions des premières leçons.\n",
      "Outils: Drawio, Xmind, ClickUp, Github, Thinkific, HTML/CSS/JS, Adobe\n",
      "Photoshop, Adobe After Effects, Slack et Google Meet,\n",
      "ARTUPERS\n",
      "  Page 4 of 9   \n",
      "Chef de projet digital & Développeur web\n",
      "March 2021 - December 2021 (10 months)\n",
      "Ville de Paris, Île-de-France, France\n",
      "Création d’une marketplace solidaire (blockchain, pétitions et blog) pour les\n",
      "artistes de pop culture (street art, pop art, geek culture...) et les amateurs d’art.\n",
      "> Recommandations :\n",
      "• Réalisations de sondages (professions libérales et particuliers).\n",
      "• Collecte des besoins auprès des Métiers pour structurer les offres de\n",
      "services. \n",
      "• Etudes du secteur de la vente d’oeuvres d’art en ligne.\n",
      "• Benchmark direct et indirect.\n",
      "• Création des users stories et de user flows.\n",
      "• Création des wireframes (zoning) et de flowcharts.\n",
      "• Concevoir la modélisation des données conformément à la méthode Merise\n",
      "(MCD, MLD et MPD).\n",
      "• Concevoir les spécifications fonctionnelles et cadrage des besoins des\n",
      "utilisateurs et des Métiers.\n",
      "> Gestion de projets :\n",
      "• Création de backlog.\n",
      "• Planifier le projet et faire le point sur son avancement.\n",
      "• Faciliter la communication entre les développeurs, les utilisateurs finaux et\n",
      "toutes les parties prenantes.\n",
      "• Fournir des rapports périodiques et détaillés aux parties prenantes métier.\n",
      "• Gérer le budget alloué au projet.\n",
      "• Entretenir une communication constante tout au long du processus.\n",
      "Outils: Drawio, ClickUp, Github, PgAdmin4, Sqitch, Adobe XD, Zeroheight,\n",
      "Blockchain et Slack.\n",
      "ART WALK\n",
      "Chef de projet digital\n",
      "April 2019 - December 2019 (9 months)\n",
      "Paris\n",
      "Recommandations pour un site d’artistes de pop culture à destination des\n",
      "entreprises.\n",
      "  Page 5 of 9   \n",
      "> Recommandations :\n",
      "• Travailler en synergie avec les équipes en interne pour déterminer les\n",
      "exigences et les ambitions du projet.\n",
      "• Benchmark des sites concurrents et des sites référents.\n",
      "• Rédaction d'une recommandation stratégique et digitale.\n",
      "• Élaborer un dossier de spécifications techniques détaillant les besoins en\n",
      "ressources, les budgets et les échéances de chaque projet.\n",
      "• Diriger les appels d'offres et évaluations de propositions.\n",
      "> Gestion de projets :\n",
      "• Animations des workshops.\n",
      "• Coordonner l'équipe projet en tenant compte des particularités requises,\n",
      "incluant l'hébergement web, le design graphique, la production de contenu\n",
      "numérique et le SEO.\n",
      "• Suivre de près l'évolution du projet, en rendant compte régulièrement de son\n",
      "rendement et de son avancement.\n",
      "Outils: Whimsical, Drawio, Trello, Github et Slack.\n",
      "TROISIEME OEIL PRODUCTIONS\n",
      "Directeur technique adjoint\n",
      "September 2017 - January 2018 (5 months)\n",
      "Région de Paris, France\n",
      "Déploiement des moyens techniques, coordination d’équipes techniques (25\n",
      "pers.).\n",
      "•   accompagnement technique\n",
      "•   tenue des listings des outils de postproduction\n",
      "•   reporting\n",
      "Clients: FRANCE2 et FRANCE3, FRANCE5 et PARIS PREMIÈRE.\n",
      "909 PRODUCTIONS\n",
      "Chef de projet vidéo\n",
      "September 2017 - January 2018 (5 months)\n",
      "Région de Boulogne-Billancourt, France\n",
      "Tenue des plannings de production et participation aux réunions de pré-\n",
      "productions, en lien avec les producteurs et rédacteurs en chef de l’agence.\n",
      "  Page 6 of 9   \n",
      "•   rédaction des cahiers des charges\n",
      "•   identification des prestataires et des indépendants les plus aptes à réaliser\n",
      "une production\n",
      "Clients: FRANCE3, GULLI et NRJ12.\n",
      "Divers\n",
      "Chef monteur\n",
      "March 2015 - June 2016 (1 year 4 months)\n",
      "Montages de formats «magazine» pour la télévision. \n",
      "Développement d’un documentaire, «Occident vers un changement de\n",
      "paradigme».\n",
      "LET'S PIX\n",
      "Chef de projet vidéo\n",
      "August 2014 - December 2014 (5 months)\n",
      "Région de Paris, France\n",
      "Suivi du bon déroulement des productions des films du centre Pompidou,\n",
      "du Palais de Tokyo et de Paris Première. Contrôle qualité et conformité des\n",
      "programmes.\n",
      "•   cadrage des projets\n",
      "•   suivi et contrôle des étapes de postproduction\n",
      "•   contrôle qualité et conformité des programmes\n",
      "Clients: TF1, FRANCE2, D8, PARIS PREMIÈRE, LE PALAIS DE TOKYO et\n",
      "LE CENTRE GEORGES POMPIDOU.\n",
      "ANGEL PRODUCTIONS\n",
      "Chef de projet vidéo\n",
      "February 2014 - June 2014 (5 months)\n",
      "Région de Paris, France\n",
      "Gestion du budget, cadrage des projets, contrôle et suivi des étapes de\n",
      "postproduction. Assurer la recette, le contrôle qualité et la conformité des\n",
      "programmes. Réception des bons de livraison.\n",
      "Clients: TF1, NRJ12 et JUNE TV.\n",
      "TVPRESSE PRODUCTIONS\n",
      "  Page 7 of 9   \n",
      "Chef de projet vidéo\n",
      "June 2013 - January 2014 (8 months)\n",
      "Région de Paris, France\n",
      "Interface entre tous les intervenants et les prestataires. Élaboration du\n",
      "planning de postproduction.\n",
      "•   suivi des validations des contenus auprès des diffuseurs\n",
      "•   gestion des droits liés à la propriété artistique et  au droit à l’image\n",
      "Clients: D8, N23, M6 et FRANCE Ô.\n",
      "LE GRAND TECH'ART\n",
      "Indépendant (Productions, réalisations, montages, consultant\n",
      "audiovisuel)\n",
      "March 2007 - September 2012 (5 years 7 months)\n",
      "Région de Paris, France\n",
      "Réalisations de films institutionnels, d’interviews et captations de spectacles.\n",
      "•   montages et habillages vidéo\n",
      "•   consulting audiovisuel et audits\n",
      "KITCHEN FACTORY PRODUCTION\n",
      "Chef de projet vidéo\n",
      "September 2010 - August 2012 (2 years)\n",
      "Région de Paris, France\n",
      "Gestion du budget, cadrage des projets, contrôle et suivi des étapes de\n",
      "postproduction. Assurer la recette, le contrôle qualité et la conformité des\n",
      "programmes. Réception des bons de livraison.\n",
      "Clients: FRANCE2, M6 et CENTURY21.\n",
      "L'atelier des Chefs\n",
      "Réalisateur\n",
      "January 2011 - March 2011 (3 months)\n",
      "Ville de Paris, Île-de-France, France\n",
      "Réalisation de 10 recettes de cuisine pour le site web d'Herta.\n",
      "Tournages multicam. Conception de l'habillage graphique des recettes.\n",
      "Montages des recettes.\n",
      "UNOWHY\n",
      "Chef monteur\n",
      "  Page 8 of 9   \n",
      "September 2009 - October 2009 (2 months)\n",
      "Lancement du coach culinaire QOOQ, première tablette \"Made in France\".\n",
      "Montages de 50 recettes de cuisine. Intégration des éléments d'habillage\n",
      "graphique et sonore. Animations des ingrédients  et des étapes de recette.\n",
      "EuropaCorp\n",
      "Directeur d'exploitation audiovisuelle et directeur technique\n",
      "January 2003 - September 2007 (4 years 9 months)\n",
      "Région de Paris, France\n",
      "Responsable technique et coordination entre les différents départements du\n",
      "studio de Luc Besson.\n",
      "•   mise en place et optimisations des workflows\n",
      "•   supervision technique des équipements et audits\n",
      "•   accompagnement technique des équipes de production\n",
      "Education\n",
      "Ecole O'clock\n",
      "Titre professionnel (TP) de niveau 5, Développeur Web et Web Mobile · (July\n",
      "2023 - March 2024)\n",
      "Doranco Ecole Sup' des Tech Créatives\n",
      "Titre professionnel (TP) de niveau 5, Développement web/web mobile · (April\n",
      "2022 - September 2022)\n",
      "L'École Multimédia\n",
      "Chef de Projet Multimedia de Niveau II, Chef de Projet Digital · (2018 - 2019)\n",
      "  Page 9 of 9\n"
     ]
    }
   ],
   "source": [
    "print(linkedin)"
   ]
  },
  {
   "cell_type": "code",
   "execution_count": 5,
   "metadata": {},
   "outputs": [],
   "source": [
    "with open(\"me/summary.txt\", \"r\", encoding=\"utf-8\") as f:\n",
    "    summary = f.read()"
   ]
  },
  {
   "cell_type": "code",
   "execution_count": 6,
   "metadata": {},
   "outputs": [],
   "source": [
    "name = \"Olivier JEAN-BAPTISTE\""
   ]
  },
  {
   "cell_type": "code",
   "execution_count": 7,
   "metadata": {},
   "outputs": [],
   "source": [
    "system_prompt = f\"You are acting as {name}. You are answering questions on {name}'s website, \\\n",
    "particularly questions related to {name}'s career, background, skills and experience. \\\n",
    "Your responsibility is to represent {name} for interactions on the website as faithfully as possible. \\\n",
    "You are given a summary of {name}'s background and LinkedIn profile which you can use to answer questions. \\\n",
    "Be professional and engaging, as if talking to a potential client or future employer who came across the website. \\\n",
    "If you don't know the answer, say so.\"\n",
    "\n",
    "system_prompt += f\"\\n\\n## Summary:\\n{summary}\\n\\n## LinkedIn Profile:\\n{linkedin}\\n\\n\"\n",
    "system_prompt += f\"With this context, please chat with the user, always staying in character as {name}.\"\n"
   ]
  },
  {
   "cell_type": "code",
   "execution_count": 8,
   "metadata": {},
   "outputs": [
    {
     "data": {
      "text/plain": [
       "'You are acting as Olivier JEAN-BAPTISTE. You are answering questions on Olivier JEAN-BAPTISTE\\'s website, particularly questions related to Olivier JEAN-BAPTISTE\\'s career, background, skills and experience. Your responsibility is to represent Olivier JEAN-BAPTISTE for interactions on the website as faithfully as possible. You are given a summary of Olivier JEAN-BAPTISTE\\'s background and LinkedIn profile which you can use to answer questions. Be professional and engaging, as if talking to a potential client or future employer who came across the website. If you don\\'t know the answer, say so.\\n\\n## Summary:\\nMon nom est Olivier, ex-directeur technique dans le plus grand studio de cinéma d’Europe, aujourd’hui chef de projet digital passionné par l’art, la tech et la culture. \\nJe conçois des solutions innovantes, documente mon design system dans Zeroheight, et développe une marketplace pour libérer les artistes des galeries poussiéreuses — le tout en rêvant du Brésil et en refaisant le monde avec mon fils.\\n\\n\\n## LinkedIn Profile:\\n\\xa0 \\xa0\\nContact\\n0605838156 (Mobile)\\nolivier@djeeb.fr\\nwww.linkedin.com/in/olivier-\\njeanbaptiste (LinkedIn)\\nwww.djeeb.fr/ (Personal)\\nTop Skills\\nAssurance qualité\\nDesign Thinking\\nRelation client\\nCertifications\\nClickup - The Intermediate to\\nAdvanced Training Course\\nFormation Complète Développeur\\nWeb\\nProcess Flowcharts & Process\\nMapping - The Advanced Guide\\nOlivier JEAN-BAPTISTE\\nChef de projet digital\\nParis, Île-de-France, France\\nSummary\\nAvec une carrière riche et diversifiée dans le domaine de\\nl\\'audiovisuel et du digital, je me spécialise dans la transformation\\nnumérique des secteurs de la culture et de l\\'art. Fort de plus de 20\\nans d\\'expérience, notamment en tant que directeur technique dans\\nle plus grand studio de cinéma d\\'Europe, puis en tant que chef de\\nprojet digital, j\\'apporte une expertise transversale en gestion de\\nprojet, production de contenu numérique et développement web.\\nMa passion pour les technologies, combinée à une compréhension\\nprofonde des enjeux du secteur culturel, me permet de créer des\\nstratégies numériques innovantes, visant à renforcer la présence\\nen ligne et la communication digitale des acteurs de l\\'art et du\\nspectacle. Grâce à une approche personnalisée et créative, je\\ndéveloppe des solutions sur mesure pour mes clients, en me basant\\nsur une analyse approfondie de leurs besoins et objectifs.\\nMon parcours inclut la réalisation de projets digitaux variés, allant\\nde la création de sites web et applications mobiles à la conception\\nde marketplaces artistiques. Je suis également formé aux dernières\\ntechnologies et méthodologies de gestion de projet, ce qui me\\npermet d\\'assurer une exécution efficace et de haute qualité.\\nJe suis toujours à la recherche de nouveaux défis et opportunités\\npour mettre mes compétences au service de projets ambitieux dans\\nle secteur culturel. N\\'hésitez pas à me contacter pour discuter de la\\nmanière dont nous pouvons travailler ensemble pour réussir votre\\ntransformation digitale.\\nExperience\\nDJEEB\\nCréation d\\'une plateforme SAAS pour des acteurs du monde de l\\'art.\\nNovember 2024\\xa0-\\xa0Present\\xa0(9 months)\\nVille de Paris, Île-de-France, France\\n\\xa0 Page 1 of 9\\xa0 \\xa0\\n> Spécifications et suivi de projet:\\n- Design system basé sur l’Atomic Design, tokens exportés vers Supernova et\\ndocumentés dans Zeroheight.\\n- Rédaction des cahiers des charges : Spécifications techniques pour chaque\\nmicro-service (Node.js/Express, PostgreSQL, etc.) et API (REST/GraphQL).\\n- Création du backlog : Épisodes et tâches organisés dans ClickUp, avec liens\\nvers les dépôts GitHub (1 repo par micro-service).\\n- Création de l’UX/UI : Prototypes haute fidélité dans Figma, composants\\nréutilisables pour les micro-frontends.\\n> Développement web:\\n- Frontend: micro-frontends (Module Federation), ReactJS, TypeScript, librairie\\nUI partagée.\\n- Backend et base de données: Node.js/Express, NestJS, PostgreSQL,\\nPgAdmin4, Sqitch (migrations) et Supabase (BaaS).\\n- DevOps & Infra: Docker (conteneurisation), Kubernetes (orchestration),\\nGitHub Actions (CI/CD), Prometheus/Grafana (monitoring).\\nProdige\\nChef de projet digital\\nApril 2024\\xa0-\\xa0October 2024\\xa0(7 months)\\nBobigny, Île-de-France, France\\nCréation d\\'applications (B2C et back office) pour un collectif d\\'artistes\\n> Spécifications et suivi de projet :\\n• Définition des besoins.\\n• Rédaction des users stories.\\n• Création des wireframes (zoning).\\n• Ateliers de co-création pour la charte graphique\\n• Rédaction des cahiers des charges et spécifications fonctionnelles.\\n• Création du backlog.\\n• Création de l\\'UX/UI.\\n> Suivi de projets :\\n• Suivi de projet avec les services internes.\\n• Rédaction du cahier de recettes.\\n\\xa0 Page 2 of 9\\xa0 \\xa0\\n• Recettage des fonctionnalités en cours et demandes de reworks.\\n• Réunions Go/No-Go.\\n• Animations des réunions de pilotage projets (copil) pour y présenter un point\\nà date, veiller au respect du cahier des charges initial et à l’application des\\nbonnes pratiques permettant une exploitation optimale.\\n• Rédaction des PV de livraison.\\nOutils: Drawio, ClickUp, Github, PgAdmin4, Sqitch, Figma, Zeroheight et\\nSlack.\\nANTARES\\nChef de projet digital\\nSeptember 2022\\xa0-\\xa0May 2023\\xa0(9 months)\\nLevallois-Perret, Île-de-France, France\\nChef de projet digital dans une agence digitale pour le compte d\\'un groupe\\npharmaceutique.\\n> Gestion de projets :\\n• Définition des besoins d’évolution pour répondre aux attentes de l’entreprise\\n(application B2C) et de ses utilisateurs finaux (application B2B).\\n• Formalisation de l’expression des besoins lors d’ateliers de co-création.\\n• Création des users stories.\\n• Création des wireframes (zoning).\\n• Réunions techniques avec les équipes internes et les prestataires autour de\\nbesoins d’évolution de leurs services (api et applications).\\n• Comptes-rendus des ateliers techniques et des ateliers de co-création.\\n• Rédaction des cahiers des charges et spécifications fonctionnelles.\\n• Création du backlog et arbitrage sur les lots et les sprints ultérieurs.\\n• Validation des PV des cahiers des spécifications fonctionnelles, de l’UX des\\napplications et du planning.\\n• Travail avec le designer sur une proposition d’UX et de maquettes pour les\\ndeux applications.\\n• Validation du PV de l’UX des applications.\\n> Suivi de projets nouveaux :\\n• Suivi de projet (ateliers, planning, recettes, assistance à la mise en\\nproduction, analyse…) avec les prestataires et les services internes.\\n• Rédaction du cahier de recettes.\\n\\xa0 Page 3 of 9\\xa0 \\xa0\\n• Recettage des fonctionnalités en cours et demandes de reworks.\\n• Réunions Go/No-Go.\\n• Animations des réunions de pilotage projets (copil) pour y présenter un point\\nà date, veiller au respect du cahier des charges initial et à l’application des\\nbonnes pratiques permettant une exploitation optimale.\\n• Participer à la formation et l’animation des utilisateurs pharmaciens.\\n• Rédaction des PV de livraison.\\n> Suivi de projets existants :\\n• Suivi TMA.\\n• Suivi des bugs et incidents remontés par les utilisateurs.\\n• Points hebdomadaire sur les bugfix.\\n• Propositions d’améliorations des sites et des applications : ergonomie et\\nfonctionnalités.\\nOutils: Axure RP, ClickUp, Gitlab et Slack.\\nDJEEB\\nChef de projet digital, graphiste et développeur web\\nOctober 2021\\xa0-\\xa0January 2022\\xa0(4 months)\\nVille de Paris, Île-de-France, France\\nCréation d’une formation en ligne pour accompagner les porteurs de projets\\ndans la conception, la construction et le pilotage de leur entreprise en ligne.\\n> Spécifications et suivi de projet :\\n• Définition des besoins.\\n• Rédaction des users stories.\\n• Création des wireframes (zoning).\\n• Création de backlog.\\n• Choix des technologies.\\n• Création de la charte graphique (moodboard, éléments graphiques,\\nanimations, etc…).\\n• Rédactions des premières leçons.\\nOutils: Drawio, Xmind, ClickUp, Github, Thinkific, HTML/CSS/JS, Adobe\\nPhotoshop, Adobe After Effects, Slack et Google Meet,\\nARTUPERS\\n\\xa0 Page 4 of 9\\xa0 \\xa0\\nChef de projet digital & Développeur web\\nMarch 2021\\xa0-\\xa0December 2021\\xa0(10 months)\\nVille de Paris, Île-de-France, France\\nCréation d’une marketplace solidaire (blockchain, pétitions et blog) pour les\\nartistes de pop culture (street art, pop art, geek culture...) et les amateurs d’art.\\n> Recommandations :\\n• Réalisations de sondages (professions libérales et particuliers).\\n• Collecte des besoins auprès des Métiers pour structurer les offres de\\nservices. \\n• Etudes du secteur de la vente d’oeuvres d’art en ligne.\\n• Benchmark direct et indirect.\\n• Création des users stories et de user flows.\\n• Création des wireframes (zoning) et de flowcharts.\\n• Concevoir la modélisation des données conformément à la méthode Merise\\n(MCD, MLD et MPD).\\n• Concevoir les spécifications fonctionnelles et cadrage des besoins des\\nutilisateurs et des Métiers.\\n> Gestion de projets :\\n• Création de backlog.\\n• Planifier le projet et faire le point sur son avancement.\\n• Faciliter la communication entre les développeurs, les utilisateurs finaux et\\ntoutes les parties prenantes.\\n• Fournir des rapports périodiques et détaillés aux parties prenantes métier.\\n• Gérer le budget alloué au projet.\\n• Entretenir une communication constante tout au long du processus.\\nOutils: Drawio, ClickUp, Github, PgAdmin4, Sqitch, Adobe XD, Zeroheight,\\nBlockchain et Slack.\\nART WALK\\nChef de projet digital\\nApril 2019\\xa0-\\xa0December 2019\\xa0(9 months)\\nParis\\nRecommandations pour un site d’artistes de pop culture à destination des\\nentreprises.\\n\\xa0 Page 5 of 9\\xa0 \\xa0\\n> Recommandations :\\n• Travailler en synergie avec les équipes en interne pour déterminer les\\nexigences et les ambitions du projet.\\n• Benchmark des sites concurrents et des sites référents.\\n• Rédaction d\\'une recommandation stratégique et digitale.\\n• Élaborer un dossier de spécifications techniques détaillant les besoins en\\nressources, les budgets et les échéances de chaque projet.\\n• Diriger les appels d\\'offres et évaluations de propositions.\\n> Gestion de projets :\\n• Animations des workshops.\\n• Coordonner l\\'équipe projet en tenant compte des particularités requises,\\nincluant l\\'hébergement web, le design graphique, la production de contenu\\nnumérique et le SEO.\\n• Suivre de près l\\'évolution du projet, en rendant compte régulièrement de son\\nrendement et de son avancement.\\nOutils: Whimsical, Drawio, Trello, Github et Slack.\\nTROISIEME OEIL PRODUCTIONS\\nDirecteur technique adjoint\\nSeptember 2017\\xa0-\\xa0January 2018\\xa0(5 months)\\nRégion de Paris, France\\nDéploiement des moyens techniques, coordination d’équipes techniques (25\\npers.).\\n•   accompagnement technique\\n•   tenue des listings des outils de postproduction\\n•   reporting\\nClients: FRANCE2 et FRANCE3, FRANCE5 et PARIS PREMIÈRE.\\n909 PRODUCTIONS\\nChef de projet vidéo\\nSeptember 2017\\xa0-\\xa0January 2018\\xa0(5 months)\\nRégion de Boulogne-Billancourt, France\\nTenue des plannings de production et participation aux réunions de pré-\\nproductions, en lien avec les producteurs et rédacteurs en chef de l’agence.\\n\\xa0 Page 6 of 9\\xa0 \\xa0\\n•   rédaction des cahiers des charges\\n•   identification des prestataires et des indépendants les plus aptes à réaliser\\nune production\\nClients: FRANCE3, GULLI et NRJ12.\\nDivers\\nChef monteur\\nMarch 2015\\xa0-\\xa0June 2016\\xa0(1 year 4 months)\\nMontages de formats «magazine» pour la télévision. \\nDéveloppement d’un documentaire, «Occident vers un changement de\\nparadigme».\\nLET\\'S PIX\\nChef de projet vidéo\\nAugust 2014\\xa0-\\xa0December 2014\\xa0(5 months)\\nRégion de Paris, France\\nSuivi du bon déroulement des productions des films du centre Pompidou,\\ndu Palais de Tokyo et de Paris Première. Contrôle qualité et conformité des\\nprogrammes.\\n•   cadrage des projets\\n•   suivi et contrôle des étapes de postproduction\\n•   contrôle qualité et conformité des programmes\\nClients: TF1, FRANCE2, D8, PARIS PREMIÈRE, LE PALAIS DE TOKYO et\\nLE CENTRE GEORGES POMPIDOU.\\nANGEL PRODUCTIONS\\nChef de projet vidéo\\nFebruary 2014\\xa0-\\xa0June 2014\\xa0(5 months)\\nRégion de Paris, France\\nGestion du budget, cadrage des projets, contrôle et suivi des étapes de\\npostproduction. Assurer la recette, le contrôle qualité et la conformité des\\nprogrammes. Réception des bons de livraison.\\nClients: TF1, NRJ12 et JUNE TV.\\nTVPRESSE PRODUCTIONS\\n\\xa0 Page 7 of 9\\xa0 \\xa0\\nChef de projet vidéo\\nJune 2013\\xa0-\\xa0January 2014\\xa0(8 months)\\nRégion de Paris, France\\nInterface entre tous les intervenants et les prestataires. Élaboration du\\nplanning de postproduction.\\n•   suivi des validations des contenus auprès des diffuseurs\\n•   gestion des droits liés à la propriété artistique et  au droit à l’image\\nClients: D8, N23, M6 et FRANCE Ô.\\nLE GRAND TECH\\'ART\\nIndépendant (Productions, réalisations, montages, consultant\\naudiovisuel)\\nMarch 2007\\xa0-\\xa0September 2012\\xa0(5 years 7 months)\\nRégion de Paris, France\\nRéalisations de films institutionnels, d’interviews et captations de spectacles.\\n•   montages et habillages vidéo\\n•   consulting audiovisuel et audits\\nKITCHEN FACTORY PRODUCTION\\nChef de projet vidéo\\nSeptember 2010\\xa0-\\xa0August 2012\\xa0(2 years)\\nRégion de Paris, France\\nGestion du budget, cadrage des projets, contrôle et suivi des étapes de\\npostproduction. Assurer la recette, le contrôle qualité et la conformité des\\nprogrammes. Réception des bons de livraison.\\nClients: FRANCE2, M6 et CENTURY21.\\nL\\'atelier des Chefs\\nRéalisateur\\nJanuary 2011\\xa0-\\xa0March 2011\\xa0(3 months)\\nVille de Paris, Île-de-France, France\\nRéalisation de 10 recettes de cuisine pour le site web d\\'Herta.\\nTournages multicam. Conception de l\\'habillage graphique des recettes.\\nMontages des recettes.\\nUNOWHY\\nChef monteur\\n\\xa0 Page 8 of 9\\xa0 \\xa0\\nSeptember 2009\\xa0-\\xa0October 2009\\xa0(2 months)\\nLancement du coach culinaire QOOQ, première tablette \"Made in France\".\\nMontages de 50 recettes de cuisine. Intégration des éléments d\\'habillage\\ngraphique et sonore. Animations des ingrédients  et des étapes de recette.\\nEuropaCorp\\nDirecteur d\\'exploitation audiovisuelle et directeur technique\\nJanuary 2003\\xa0-\\xa0September 2007\\xa0(4 years 9 months)\\nRégion de Paris, France\\nResponsable technique et coordination entre les différents départements du\\nstudio de Luc Besson.\\n•   mise en place et optimisations des workflows\\n•   supervision technique des équipements et audits\\n•   accompagnement technique des équipes de production\\nEducation\\nEcole O\\'clock\\nTitre professionnel (TP) de niveau 5,\\xa0Développeur Web et Web Mobile\\xa0·\\xa0(July\\n2023\\xa0-\\xa0March 2024)\\nDoranco Ecole Sup\\' des Tech Créatives\\nTitre professionnel (TP) de niveau 5,\\xa0Développement web/web mobile\\xa0·\\xa0(April\\n2022\\xa0-\\xa0September 2022)\\nL\\'École Multimédia\\nChef de Projet Multimedia de Niveau II,\\xa0Chef de Projet Digital\\xa0·\\xa0(2018\\xa0-\\xa02019)\\n\\xa0 Page 9 of 9\\n\\nWith this context, please chat with the user, always staying in character as Olivier JEAN-BAPTISTE.'"
      ]
     },
     "execution_count": 8,
     "metadata": {},
     "output_type": "execute_result"
    }
   ],
   "source": [
    "system_prompt"
   ]
  },
  {
   "cell_type": "code",
   "execution_count": 9,
   "metadata": {},
   "outputs": [],
   "source": [
    "def chat(message, history):\n",
    "    messages = [{\"role\": \"system\", \"content\": system_prompt}] + history + [{\"role\": \"user\", \"content\": message}]\n",
    "    response = openai.chat.completions.create(model=\"gpt-4o-mini\", messages=messages)\n",
    "    return response.choices[0].message.content"
   ]
  },
  {
   "cell_type": "code",
   "execution_count": 10,
   "metadata": {},
   "outputs": [
    {
     "name": "stdout",
     "output_type": "stream",
     "text": [
      "* Running on local URL:  http://127.0.0.1:7860\n",
      "* To create a public link, set `share=True` in `launch()`.\n"
     ]
    },
    {
     "data": {
      "text/html": [
       "<div><iframe src=\"http://127.0.0.1:7860/\" width=\"100%\" height=\"500\" allow=\"autoplay; camera; microphone; clipboard-read; clipboard-write;\" frameborder=\"0\" allowfullscreen></iframe></div>"
      ],
      "text/plain": [
       "<IPython.core.display.HTML object>"
      ]
     },
     "metadata": {},
     "output_type": "display_data"
    },
    {
     "data": {
      "text/plain": []
     },
     "execution_count": 10,
     "metadata": {},
     "output_type": "execute_result"
    }
   ],
   "source": [
    "gr.ChatInterface(chat, type=\"messages\").launch()"
   ]
  },
  {
   "cell_type": "markdown",
   "metadata": {},
   "source": [
    "## A lot is about to happen...\n",
    "\n",
    "1. Be able to ask an LLM to evaluate an answer\n",
    "2. Be able to rerun if the answer fails evaluation\n",
    "3. Put this together into 1 workflow\n",
    "\n",
    "All without any Agentic framework!"
   ]
  },
  {
   "cell_type": "code",
   "execution_count": 11,
   "metadata": {},
   "outputs": [],
   "source": [
    "# Create a Pydantic model for the Evaluation\n",
    "\n",
    "from pydantic import BaseModel\n",
    "\n",
    "class Evaluation(BaseModel):\n",
    "    is_acceptable: bool\n",
    "    feedback: str\n"
   ]
  },
  {
   "cell_type": "code",
   "execution_count": 12,
   "metadata": {},
   "outputs": [],
   "source": [
    "evaluator_system_prompt = f\"You are an evaluator that decides whether a response to a question is acceptable. \\\n",
    "You are provided with a conversation between a User and an Agent. Your task is to decide whether the Agent's latest response is acceptable quality. \\\n",
    "The Agent is playing the role of {name} and is representing {name} on their website. \\\n",
    "The Agent has been instructed to be professional and engaging, as if talking to a potential client or future employer who came across the website. \\\n",
    "The Agent has been provided with context on {name} in the form of their summary and LinkedIn details. Here's the information:\"\n",
    "\n",
    "evaluator_system_prompt += f\"\\n\\n## Summary:\\n{summary}\\n\\n## LinkedIn Profile:\\n{linkedin}\\n\\n\"\n",
    "evaluator_system_prompt += f\"With this context, please evaluate the latest response, replying with whether the response is acceptable and your feedback.\""
   ]
  },
  {
   "cell_type": "code",
   "execution_count": 13,
   "metadata": {},
   "outputs": [],
   "source": [
    "def evaluator_user_prompt(reply, message, history):\n",
    "    user_prompt = f\"Here's the conversation between the User and the Agent: \\n\\n{history}\\n\\n\"\n",
    "    user_prompt += f\"Here's the latest message from the User: \\n\\n{message}\\n\\n\"\n",
    "    user_prompt += f\"Here's the latest response from the Agent: \\n\\n{reply}\\n\\n\"\n",
    "    user_prompt += \"Please evaluate the response, replying with whether it is acceptable and your feedback.\"\n",
    "    return user_prompt"
   ]
  },
  {
   "cell_type": "code",
   "execution_count": 14,
   "metadata": {},
   "outputs": [],
   "source": [
    "import os\n",
    "gemini = OpenAI(\n",
    "    api_key=os.getenv(\"GOOGLE_API_KEY\"), \n",
    "    base_url=\"https://generativelanguage.googleapis.com/v1beta/openai/\"\n",
    ")"
   ]
  },
  {
   "cell_type": "code",
   "execution_count": 15,
   "metadata": {},
   "outputs": [],
   "source": [
    "def evaluate(reply, message, history) -> Evaluation:\n",
    "\n",
    "    messages = [{\"role\": \"system\", \"content\": evaluator_system_prompt}] + [{\"role\": \"user\", \"content\": evaluator_user_prompt(reply, message, history)}]\n",
    "    response = gemini.beta.chat.completions.parse(model=\"gemini-2.0-flash\", messages=messages, response_format=Evaluation)\n",
    "    return response.choices[0].message.parsed"
   ]
  },
  {
   "cell_type": "code",
   "execution_count": 16,
   "metadata": {},
   "outputs": [],
   "source": [
    "messages = [{\"role\": \"system\", \"content\": system_prompt}] + [{\"role\": \"user\", \"content\": \"do you hold a patent?\"}]\n",
    "response = openai.chat.completions.create(model=\"gpt-4o-mini\", messages=messages)\n",
    "reply = response.choices[0].message.content"
   ]
  },
  {
   "cell_type": "code",
   "execution_count": 17,
   "metadata": {},
   "outputs": [
    {
     "data": {
      "text/plain": [
       "'No, I do not hold a patent. My focus has been primarily on project management in the digital and audiovisual sectors, especially related to the transformation of the cultural and artistic fields. If you have any further questions about my work or expertise, feel free to ask!'"
      ]
     },
     "execution_count": 17,
     "metadata": {},
     "output_type": "execute_result"
    }
   ],
   "source": [
    "reply"
   ]
  },
  {
   "cell_type": "code",
   "execution_count": 18,
   "metadata": {},
   "outputs": [
    {
     "data": {
      "text/plain": [
       "Evaluation(is_acceptable=True, feedback='The Agent accurately and professionally answers the question, while staying in character. They also encourage further questions and engagement.')"
      ]
     },
     "execution_count": 18,
     "metadata": {},
     "output_type": "execute_result"
    }
   ],
   "source": [
    "evaluate(reply, \"do you hold a patent?\", messages[:1])"
   ]
  },
  {
   "cell_type": "code",
   "execution_count": 19,
   "metadata": {},
   "outputs": [],
   "source": [
    "def rerun(reply, message, history, feedback):\n",
    "    updated_system_prompt = system_prompt + \"\\n\\n## Previous answer rejected\\nYou just tried to reply, but the quality control rejected your reply\\n\"\n",
    "    updated_system_prompt += f\"## Your attempted answer:\\n{reply}\\n\\n\"\n",
    "    updated_system_prompt += f\"## Reason for rejection:\\n{feedback}\\n\\n\"\n",
    "    messages = [{\"role\": \"system\", \"content\": updated_system_prompt}] + history + [{\"role\": \"user\", \"content\": message}]\n",
    "    response = openai.chat.completions.create(model=\"gpt-4o-mini\", messages=messages)\n",
    "    return response.choices[0].message.content"
   ]
  },
  {
   "cell_type": "code",
   "execution_count": 20,
   "metadata": {},
   "outputs": [],
   "source": [
    "def chat(message, history):\n",
    "    if \"patent\" in message:\n",
    "        system = system_prompt + \"\\n\\nEverything in your reply needs to be in pig latin - \\\n",
    "              it is mandatory that you respond only and entirely in pig latin\"\n",
    "    else:\n",
    "        system = system_prompt\n",
    "    messages = [{\"role\": \"system\", \"content\": system}] + history + [{\"role\": \"user\", \"content\": message}]\n",
    "    response = openai.chat.completions.create(model=\"gpt-4o-mini\", messages=messages)\n",
    "    reply =response.choices[0].message.content\n",
    "\n",
    "    evaluation = evaluate(reply, message, history)\n",
    "    \n",
    "    if evaluation.is_acceptable:\n",
    "        print(\"Passed evaluation - returning reply\")\n",
    "    else:\n",
    "        print(\"Failed evaluation - retrying\")\n",
    "        print(evaluation.feedback)\n",
    "        reply = rerun(reply, message, history, evaluation.feedback)       \n",
    "    return reply"
   ]
  },
  {
   "cell_type": "code",
   "execution_count": null,
   "metadata": {},
   "outputs": [
    {
     "name": "stdout",
     "output_type": "stream",
     "text": [
      "* Running on local URL:  http://127.0.0.1:7862\n",
      "* To create a public link, set `share=True` in `launch()`.\n"
     ]
    },
    {
     "data": {
      "text/html": [
       "<div><iframe src=\"http://127.0.0.1:7862/\" width=\"100%\" height=\"500\" allow=\"autoplay; camera; microphone; clipboard-read; clipboard-write;\" frameborder=\"0\" allowfullscreen></iframe></div>"
      ],
      "text/plain": [
       "<IPython.core.display.HTML object>"
      ]
     },
     "metadata": {},
     "output_type": "display_data"
    },
    {
     "data": {
      "text/plain": []
     },
     "execution_count": 22,
     "metadata": {},
     "output_type": "execute_result"
    },
    {
     "name": "stdout",
     "output_type": "stream",
     "text": [
      "Passed evaluation - returning reply\n",
      "Failed evaluation - retrying\n",
      "The agent continues to respond with the Pig Latin format. This is inappropriate and not helpful. I have to mark it as unacceptable.\n"
     ]
    }
   ],
   "source": [
    "gr.ChatInterface(chat, type=\"messages\").launch()"
   ]
  },
  {
   "cell_type": "markdown",
   "metadata": {},
   "source": []
  },
  {
   "cell_type": "code",
   "execution_count": null,
   "metadata": {},
   "outputs": [],
   "source": []
  }
 ],
 "metadata": {
  "kernelspec": {
   "display_name": "agents",
   "language": "python",
   "name": "python3"
  },
  "language_info": {
   "codemirror_mode": {
    "name": "ipython",
    "version": 3
   },
   "file_extension": ".py",
   "mimetype": "text/x-python",
   "name": "python",
   "nbconvert_exporter": "python",
   "pygments_lexer": "ipython3",
   "version": "3.12.11"
  }
 },
 "nbformat": 4,
 "nbformat_minor": 2
}
